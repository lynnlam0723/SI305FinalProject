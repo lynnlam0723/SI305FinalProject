{
 "cells": [
  {
   "cell_type": "markdown",
   "id": "06dd09be",
   "metadata": {},
   "source": [
    "# RQ2 Analysis\n",
    "Research Question: Are there high amounts of PFPeA in Ann Arbor drinking water?"
   ]
  },
  {
   "cell_type": "code",
   "execution_count": 1,
   "id": "da6c755c-bec6-48e5-8ff7-cde2b193e02a",
   "metadata": {},
   "outputs": [],
   "source": [
    "#load in libraries\n",
    "import pandas as pd\n",
    "import matplotlib.pyplot as plt\n",
    "import seaborn as sns\n",
    "import numpy as np"
   ]
  },
  {
   "cell_type": "code",
   "execution_count": 2,
   "id": "7fc16340-9185-4072-ade4-c62527a1a9c7",
   "metadata": {},
   "outputs": [
    {
     "name": "stdout",
     "output_type": "stream",
     "text": [
      "<class 'pandas.core.frame.DataFrame'>\n",
      "RangeIndex: 147 entries, 0 to 146\n",
      "Data columns (total 13 columns):\n",
      " #   Column                       Non-Null Count  Dtype  \n",
      "---  ------                       --------------  -----  \n",
      " 0   Sample Date                  147 non-null    object \n",
      " 1   PFBA (ppt)                   147 non-null    object \n",
      " 2   PFPeA (ppt)                  71 non-null     float64\n",
      " 3   PFBS (ppt)                   147 non-null    object \n",
      " 4   PFHxA (ppt)                  147 non-null    object \n",
      " 5   PFHpA (ppt)                  104 non-null    float64\n",
      " 6   PFHxS (ppt)                  147 non-null    object \n",
      " 7   PFOA (ppt)                   147 non-null    object \n",
      " 8   PFNA (ppt)                   147 non-null    object \n",
      " 9   PFOS (ppt)                   147 non-null    object \n",
      " 10  6:2 FTS (ppt)                147 non-null    object \n",
      " 11  Sum of PFOS and  PFOA (ppt)  147 non-null    object \n",
      " 12  Sum of All PFAS  (ppt)       147 non-null    float64\n",
      "dtypes: float64(3), object(10)\n",
      "memory usage: 15.1+ KB\n"
     ]
    }
   ],
   "source": [
    "#load in data\n",
    "url_download ='https://docs.google.com/spreadsheets/d/14Mv-sjV11S3HSy_TzdUefWglVw4anyczpWllNfTwGls/gviz/tq?tqx=out:csv'\n",
    "water_data = pd.read_csv(url_download, encoding='utf-8')\n",
    "water_data.info()"
   ]
  },
  {
   "cell_type": "code",
   "execution_count": 3,
   "id": "46779266-2929-409c-a069-a354941d6bf8",
   "metadata": {},
   "outputs": [],
   "source": [
    "#remove whitespace from column names\n",
    "water_data.columns = [col.strip() for col in water_data.columns]\n",
    "water_data.columns = [col.replace('\\xa0','') for col in water_data.columns]\n",
    "water_data.columns = [col.replace(' ','') for col in water_data.columns]"
   ]
  },
  {
   "cell_type": "markdown",
   "id": "e43b00e5-c49d-4f90-adef-380dffb97a89",
   "metadata": {},
   "source": [
    "Now that the data column names have been cleaned, we will take a look at what the data looks like."
   ]
  },
  {
   "cell_type": "code",
   "execution_count": 4,
   "id": "18d4720f-087b-4bbf-80af-2c16308780e2",
   "metadata": {},
   "outputs": [
    {
     "data": {
      "text/html": [
       "<div>\n",
       "<style scoped>\n",
       "    .dataframe tbody tr th:only-of-type {\n",
       "        vertical-align: middle;\n",
       "    }\n",
       "\n",
       "    .dataframe tbody tr th {\n",
       "        vertical-align: top;\n",
       "    }\n",
       "\n",
       "    .dataframe thead th {\n",
       "        text-align: right;\n",
       "    }\n",
       "</style>\n",
       "<table border=\"1\" class=\"dataframe\">\n",
       "  <thead>\n",
       "    <tr style=\"text-align: right;\">\n",
       "      <th></th>\n",
       "      <th>SampleDate</th>\n",
       "      <th>PFBA(ppt)</th>\n",
       "      <th>PFPeA(ppt)</th>\n",
       "      <th>PFBS(ppt)</th>\n",
       "      <th>PFHxA(ppt)</th>\n",
       "      <th>PFHpA(ppt)</th>\n",
       "      <th>PFHxS(ppt)</th>\n",
       "      <th>PFOA(ppt)</th>\n",
       "      <th>PFNA(ppt)</th>\n",
       "      <th>PFOS(ppt)</th>\n",
       "      <th>6:2FTS(ppt)</th>\n",
       "      <th>SumofPFOSandPFOA(ppt)</th>\n",
       "      <th>SumofAllPFAS(ppt)</th>\n",
       "    </tr>\n",
       "  </thead>\n",
       "  <tbody>\n",
       "    <tr>\n",
       "      <th>0</th>\n",
       "      <td>04/19/23</td>\n",
       "      <td>Not measured</td>\n",
       "      <td>NaN</td>\n",
       "      <td>Not detected</td>\n",
       "      <td>Not detected</td>\n",
       "      <td>NaN</td>\n",
       "      <td>Not detected</td>\n",
       "      <td>Not detected</td>\n",
       "      <td>Not detected</td>\n",
       "      <td>Not detected</td>\n",
       "      <td>Not measured</td>\n",
       "      <td>0</td>\n",
       "      <td>0.0</td>\n",
       "    </tr>\n",
       "    <tr>\n",
       "      <th>1</th>\n",
       "      <td>04/05/23</td>\n",
       "      <td>Not detected</td>\n",
       "      <td>2.9</td>\n",
       "      <td>Not detected</td>\n",
       "      <td>Not detected</td>\n",
       "      <td>NaN</td>\n",
       "      <td>Not detected</td>\n",
       "      <td>Not detected</td>\n",
       "      <td>Not detected</td>\n",
       "      <td>Not detected</td>\n",
       "      <td>Not detected</td>\n",
       "      <td>0</td>\n",
       "      <td>2.9</td>\n",
       "    </tr>\n",
       "    <tr>\n",
       "      <th>2</th>\n",
       "      <td>03/21/23</td>\n",
       "      <td>Not detected</td>\n",
       "      <td>3.2</td>\n",
       "      <td>Not detected</td>\n",
       "      <td>Not detected</td>\n",
       "      <td>NaN</td>\n",
       "      <td>Not detected</td>\n",
       "      <td>Not detected</td>\n",
       "      <td>Not detected</td>\n",
       "      <td>Not detected</td>\n",
       "      <td>Not detected</td>\n",
       "      <td>0</td>\n",
       "      <td>3.2</td>\n",
       "    </tr>\n",
       "    <tr>\n",
       "      <th>3</th>\n",
       "      <td>03/07/23</td>\n",
       "      <td>Not detected</td>\n",
       "      <td>5.1</td>\n",
       "      <td>Not detected</td>\n",
       "      <td>2.6</td>\n",
       "      <td>2.5</td>\n",
       "      <td>Not detected</td>\n",
       "      <td>Not detected</td>\n",
       "      <td>Not detected</td>\n",
       "      <td>Not detected</td>\n",
       "      <td>Not detected</td>\n",
       "      <td>0</td>\n",
       "      <td>10.2</td>\n",
       "    </tr>\n",
       "    <tr>\n",
       "      <th>4</th>\n",
       "      <td>02/01/23</td>\n",
       "      <td>5.2</td>\n",
       "      <td>6.1</td>\n",
       "      <td>Not detected</td>\n",
       "      <td>3.8</td>\n",
       "      <td>4.7</td>\n",
       "      <td>Not detected</td>\n",
       "      <td>Not detected</td>\n",
       "      <td>Not detected</td>\n",
       "      <td>Not detected</td>\n",
       "      <td>2.2</td>\n",
       "      <td>0</td>\n",
       "      <td>22.0</td>\n",
       "    </tr>\n",
       "    <tr>\n",
       "      <th>...</th>\n",
       "      <td>...</td>\n",
       "      <td>...</td>\n",
       "      <td>...</td>\n",
       "      <td>...</td>\n",
       "      <td>...</td>\n",
       "      <td>...</td>\n",
       "      <td>...</td>\n",
       "      <td>...</td>\n",
       "      <td>...</td>\n",
       "      <td>...</td>\n",
       "      <td>...</td>\n",
       "      <td>...</td>\n",
       "      <td>...</td>\n",
       "    </tr>\n",
       "    <tr>\n",
       "      <th>142</th>\n",
       "      <td>11/08/16</td>\n",
       "      <td>Not measured</td>\n",
       "      <td>NaN</td>\n",
       "      <td>Not measured</td>\n",
       "      <td>Not measured</td>\n",
       "      <td>NaN</td>\n",
       "      <td>Not measured</td>\n",
       "      <td>Not detected</td>\n",
       "      <td>Not measured</td>\n",
       "      <td>8.1</td>\n",
       "      <td>Not measured</td>\n",
       "      <td>8.1</td>\n",
       "      <td>8.1</td>\n",
       "    </tr>\n",
       "    <tr>\n",
       "      <th>143</th>\n",
       "      <td>10/05/16</td>\n",
       "      <td>Not measured</td>\n",
       "      <td>NaN</td>\n",
       "      <td>5.3</td>\n",
       "      <td>Not measured</td>\n",
       "      <td>4.8</td>\n",
       "      <td>Not detected</td>\n",
       "      <td>Not detected</td>\n",
       "      <td>Not detected</td>\n",
       "      <td>7.1</td>\n",
       "      <td>Not measured</td>\n",
       "      <td>7.1</td>\n",
       "      <td>17.2</td>\n",
       "    </tr>\n",
       "    <tr>\n",
       "      <th>144</th>\n",
       "      <td>07/21/16</td>\n",
       "      <td>Not measured</td>\n",
       "      <td>NaN</td>\n",
       "      <td>9.2</td>\n",
       "      <td>Not measured</td>\n",
       "      <td>5.3</td>\n",
       "      <td>Not detected</td>\n",
       "      <td>3</td>\n",
       "      <td>Not detected</td>\n",
       "      <td>16</td>\n",
       "      <td>Not measured</td>\n",
       "      <td>19.0</td>\n",
       "      <td>33.5</td>\n",
       "    </tr>\n",
       "    <tr>\n",
       "      <th>145</th>\n",
       "      <td>03/28/16</td>\n",
       "      <td>Not measured</td>\n",
       "      <td>NaN</td>\n",
       "      <td>Not detected</td>\n",
       "      <td>Not measured</td>\n",
       "      <td>2.1</td>\n",
       "      <td>Not detected</td>\n",
       "      <td>Not detected</td>\n",
       "      <td>Not detected</td>\n",
       "      <td>11</td>\n",
       "      <td>Not measured</td>\n",
       "      <td>11.0</td>\n",
       "      <td>13.1</td>\n",
       "    </tr>\n",
       "    <tr>\n",
       "      <th>146</th>\n",
       "      <td>03/05/14</td>\n",
       "      <td>Not measured</td>\n",
       "      <td>NaN</td>\n",
       "      <td>Not measured</td>\n",
       "      <td>Not measured</td>\n",
       "      <td>NaN</td>\n",
       "      <td>Not measured</td>\n",
       "      <td>Not measured</td>\n",
       "      <td>Not measured</td>\n",
       "      <td>43</td>\n",
       "      <td>Not measured</td>\n",
       "      <td>43</td>\n",
       "      <td>43.0</td>\n",
       "    </tr>\n",
       "  </tbody>\n",
       "</table>\n",
       "<p>147 rows × 13 columns</p>\n",
       "</div>"
      ],
      "text/plain": [
       "    SampleDate      PFBA(ppt)  PFPeA(ppt)      PFBS(ppt)     PFHxA(ppt)  \\\n",
       "0     04/19/23   Not measured         NaN   Not detected   Not detected   \n",
       "1    04/05/23   Not detected          2.9   Not detected   Not detected   \n",
       "2    03/21/23   Not detected          3.2   Not detected   Not detected   \n",
       "3    03/07/23   Not detected          5.1  Not detected            2.6    \n",
       "4    02/01/23            5.2          6.1  Not detected            3.8    \n",
       "..         ...            ...         ...            ...            ...   \n",
       "142  11/08/16    Not measured         NaN   Not measured   Not measured   \n",
       "143  10/05/16    Not measured         NaN            5.3  Not measured    \n",
       "144  07/21/16    Not measured         NaN            9.2  Not measured    \n",
       "145  03/28/16    Not measured         NaN   Not detected  Not measured    \n",
       "146  03/05/14    Not measured         NaN   Not measured   Not measured   \n",
       "\n",
       "     PFHpA(ppt)     PFHxS(ppt)     PFOA(ppt)      PFNA(ppt)      PFOS(ppt)  \\\n",
       "0           NaN   Not detected  Not detected   Not detected   Not detected   \n",
       "1           NaN   Not detected  Not detected   Not detected   Not detected   \n",
       "2           NaN   Not detected  Not detected   Not detected   Not detected   \n",
       "3           2.5   Not detected  Not detected   Not detected   Not detected   \n",
       "4           4.7   Not detected  Not detected   Not detected  Not detected    \n",
       "..          ...            ...           ...            ...            ...   \n",
       "142         NaN   Not measured  Not detected  Not measured             8.1   \n",
       "143         4.8   Not detected  Not detected  Not detected             7.1   \n",
       "144         5.3  Not detected              3  Not detected              16   \n",
       "145         2.1   Not detected  Not detected  Not detected              11   \n",
       "146         NaN   Not measured  Not measured  Not measured              43   \n",
       "\n",
       "       6:2FTS(ppt) SumofPFOSandPFOA(ppt)  SumofAllPFAS(ppt)  \n",
       "0    Not measured                     0                 0.0  \n",
       "1    Not detected                     0                 2.9  \n",
       "2    Not detected                     0                 3.2  \n",
       "3    Not detected                     0                10.2  \n",
       "4             2.2                     0                22.0  \n",
       "..             ...                   ...                ...  \n",
       "142  Not measured                   8.1                 8.1  \n",
       "143  Not measured                   7.1                17.2  \n",
       "144  Not measured                  19.0                33.5  \n",
       "145  Not measured                  11.0                13.1  \n",
       "146  Not measured                    43                43.0  \n",
       "\n",
       "[147 rows x 13 columns]"
      ]
     },
     "execution_count": 4,
     "metadata": {},
     "output_type": "execute_result"
    }
   ],
   "source": [
    "#show data\n",
    "water_data"
   ]
  },
  {
   "cell_type": "markdown",
   "id": "135727e1-fc8a-4e02-a679-fa941a8256ca",
   "metadata": {},
   "source": [
    "We only need the column pertaining to PFPeA data, so we will isolate this column data to analyze."
   ]
  },
  {
   "cell_type": "code",
   "execution_count": 5,
   "id": "ba1daebe-7ac2-46ae-9711-f0e12d2d8c1f",
   "metadata": {},
   "outputs": [
    {
     "data": {
      "text/plain": [
       "0      NaN\n",
       "1      2.9\n",
       "2      3.2\n",
       "3      5.1\n",
       "4      6.1\n",
       "      ... \n",
       "142    NaN\n",
       "143    NaN\n",
       "144    NaN\n",
       "145    NaN\n",
       "146    NaN\n",
       "Name: PFPeA(ppt), Length: 147, dtype: float64"
      ]
     },
     "execution_count": 5,
     "metadata": {},
     "output_type": "execute_result"
    }
   ],
   "source": [
    "#get PFOS column\n",
    "pfpea_data = water_data['PFPeA(ppt)']\n",
    "pfpea_data"
   ]
  },
  {
   "cell_type": "markdown",
   "id": "ea73dea3-0836-4cfe-81b9-3cbe51475056",
   "metadata": {},
   "source": [
    "There are no \"Not Measured\" or \"Not detected\" values like in other columns, so we will not consider them. There are many NaN values, and looking at the original data set, they all represent \"Not measured\" values, so we can remove them, as they contain no valuable information."
   ]
  },
  {
   "cell_type": "code",
   "execution_count": 6,
   "id": "05680338-ad6d-4da5-b07b-0038ecd90d23",
   "metadata": {},
   "outputs": [
    {
     "data": {
      "text/plain": [
       "[2.9,\n",
       " 3.2,\n",
       " 5.1,\n",
       " 6.1,\n",
       " 6.9,\n",
       " 8.3,\n",
       " 8.5,\n",
       " 7.8,\n",
       " 8.4,\n",
       " 9.5,\n",
       " 8.4,\n",
       " 9.9,\n",
       " 8.7,\n",
       " 8.1,\n",
       " 5.5,\n",
       " 5.3,\n",
       " 5.6,\n",
       " 4.7,\n",
       " 3.1,\n",
       " 3.3,\n",
       " 2.8,\n",
       " 4.1,\n",
       " 4.3,\n",
       " 4.6,\n",
       " 4.6,\n",
       " 5.4,\n",
       " 5.6,\n",
       " 7.2,\n",
       " 8.6,\n",
       " 11.0,\n",
       " 12.0,\n",
       " 11.0,\n",
       " 9.0,\n",
       " 8.7,\n",
       " 6.6,\n",
       " 6.7,\n",
       " 7.6,\n",
       " 6.8,\n",
       " 8.3,\n",
       " 8.5,\n",
       " 12.0,\n",
       " 13.0,\n",
       " 13.0,\n",
       " 11.0,\n",
       " 11.0,\n",
       " 8.9,\n",
       " 8.2,\n",
       " 5.1,\n",
       " 4.2,\n",
       " 10.0,\n",
       " 7.7,\n",
       " 5.9,\n",
       " 6.8,\n",
       " 4.7,\n",
       " 6.1,\n",
       " 4.7,\n",
       " 3.8,\n",
       " 4.7,\n",
       " 1.9,\n",
       " 2.0,\n",
       " 3.3,\n",
       " 6.4,\n",
       " 4.3,\n",
       " 5.2,\n",
       " 7.5,\n",
       " 5.3,\n",
       " 6.3,\n",
       " 11.0,\n",
       " 14.0,\n",
       " 20.0,\n",
       " 4.6]"
      ]
     },
     "execution_count": 6,
     "metadata": {},
     "output_type": "execute_result"
    }
   ],
   "source": [
    "#remove NaN values\n",
    "pfpea_data = pfpea_data.dropna()\n",
    "\n",
    "#make data a list to make analysis easier\n",
    "pfpea_data = list(pfpea_data)\n",
    "\n",
    "#show data\n",
    "pfpea_data"
   ]
  },
  {
   "cell_type": "markdown",
   "id": "9607ca86-3be3-41da-89fd-d168b581e6e0",
   "metadata": {},
   "source": [
    "Now, we can look at the distribution of the measurements to get an idea of what data the observations are showing. This will also give an idea of how many dangerous amounts of PFOS are present in the data, as well as how concerned experts may need to be about PFOS presence in Ann Arbor. This will include the mean, standard deviation, minimum and maximum values."
   ]
  },
  {
   "cell_type": "code",
   "execution_count": 7,
   "id": "e50c9e21-8483-47ce-a677-2a68f8f7fcd0",
   "metadata": {},
   "outputs": [
    {
     "name": "stdout",
     "output_type": "stream",
     "text": [
      "Minimum: 1.9\n",
      "Mean: 7.116901408450706\n",
      "Standard Deviation: 3.197401494060977\n",
      "Maximum: 20.0\n",
      "Most of the data will be within 2 standard deviations of the mean. This means that most data will be between 1.9 and 13.51170439657266 ppt.\n"
     ]
    }
   ],
   "source": [
    "print('Minimum:', min(pfpea_data))\n",
    "print('Mean:', np.mean(pfpea_data))\n",
    "print('Standard Deviation:', np.std(pfpea_data))\n",
    "print('Maximum:', max(pfpea_data))\n",
    "print('Most of the data will be within 2 standard deviations of the mean. This means that most data will be between',\n",
    "      max(min(pfpea_data), np.mean(pfpea_data) - 2 * np.std(pfpea_data)), 'and', np.mean(pfpea_data) + 2 * np.std(pfpea_data), 'ppt.')"
   ]
  },
  {
   "cell_type": "code",
   "execution_count": 8,
   "id": "4ff8a961-b9b7-4c37-ae2a-a883cd988359",
   "metadata": {},
   "outputs": [
    {
     "data": {
      "image/png": "[encoded data removed]",
      "text/plain": [
       "<Figure size 432x288 with 1 Axes>"
      ]
     },
     "metadata": {
      "needs_background": "light"
     },
     "output_type": "display_data"
    }
   ],
   "source": [
    "#get sorted values \n",
    "pfpea_sorted = pfpea_data\n",
    "pfpea_sorted.sort()\n",
    "\n",
    "#plot the distribution\n",
    "plt.hist(pfpea_sorted)\n",
    "plt.title('Distribution of PFPeA Values')\n",
    "plt.xlabel('PFPeA (ppt)')\n",
    "plt.ylabel('Frequency')\n",
    "plt.show()"
   ]
  },
  {
   "cell_type": "markdown",
   "id": "2feb01a3-9230-4da8-be8d-3c7a6c549e81",
   "metadata": {},
   "source": [
    "The values look to be very high, and most values exceed 1 ppt. The minimum exceeds the EWG health guideline, and the distribution is centered at 7.1, over 6 ppt over the guideline. There is also a slight right skew on the histogram, showing that there are a few much larger values that appear in the data."
   ]
  },
  {
   "cell_type": "markdown",
   "id": "8ed5b614-234f-45ad-8cce-f885d25e7296",
   "metadata": {},
   "source": [
    "We will once again visualize PFPeA with a linear regression line to evaluate the rate at which its presence is increasing, decreasing, or otherwise fluctuating."
   ]
  },
  {
   "cell_type": "code",
   "execution_count": 9,
   "id": "dc0947b4-1ec1-40f2-a2bf-f8d8c71e86f1",
   "metadata": {},
   "outputs": [
    {
     "name": "stderr",
     "output_type": "stream",
     "text": [
      "/tmp/ipykernel_77/1861419938.py:11: SettingWithCopyWarning: \n",
      "A value is trying to be set on a copy of a slice from a DataFrame.\n",
      "Try using .loc[row_indexer,col_indexer] = value instead\n",
      "\n",
      "See the caveats in the documentation: https://pandas.pydata.org/pandas-docs/stable/user_guide/indexing.html#returning-a-view-versus-a-copy\n",
      "  water_data['PFPeA(ppt)'] = water_data['PFPeA(ppt)'].astype(float)\n"
     ]
    }
   ],
   "source": [
    "#tidy PFPeA data in the water_data dataframe\n",
    "\n",
    "#drop NaN values\n",
    "for val in water_data['PFPeA(ppt)']:\n",
    "    if val == None:\n",
    "        water_data['PFPeA(ppt)'][val] = -1\n",
    "        \n",
    "water_data = water_data[water_data['PFPeA(ppt)'] >= 0]\n",
    "\n",
    "#make values floats to make analysis easier\n",
    "water_data['PFPeA(ppt)'] = water_data['PFPeA(ppt)'].astype(float)\n",
    "\n",
    "#reverse data so that earlier observations are at the beginning and later observations are at the end\n",
    "water_data = water_data.loc[::-1]\n",
    "water_data.index = range(len(water_data['PFPeA(ppt)']))"
   ]
  },
  {
   "cell_type": "code",
   "execution_count": 10,
   "id": "bc8aa864-cb58-4e57-a45a-ec3844a32bc6",
   "metadata": {},
   "outputs": [
    {
     "data": {
      "image/png": "[encoded data removed]",
      "text/plain": [
       "<Figure size 432x288 with 1 Axes>"
      ]
     },
     "metadata": {
      "needs_background": "light"
     },
     "output_type": "display_data"
    }
   ],
   "source": [
    "#plot PFPeA with a linear regression line\n",
    "sns.regplot(x=water_data.index, y='PFPeA(ppt)', data=water_data)\n",
    "plt.title('PFPeA (ppt) by Observation')\n",
    "plt.xlabel('Obervation')\n",
    "plt.show()"
   ]
  },
  {
   "cell_type": "markdown",
   "id": "32047a83-e38b-40f3-a19a-d8d5113a19ab",
   "metadata": {},
   "source": [
    "PFPeA values seem to fluctuate around 7.5 ppt. There were a few very large values in the first few observations that reach up to 20 ppt, then values alternate between increasing and decreasing within roughly 5 ppt of the linear regression line. We can also plot values without the possible outlier of 20 ppt to see how the line is affected."
   ]
  },
  {
   "cell_type": "markdown",
   "id": "f77a5d40-447d-40e1-a03a-e10484ad28d1",
   "metadata": {},
   "source": []
  },
  {
   "cell_type": "code",
   "execution_count": 11,
   "id": "a21c178e-ec5c-4238-b2db-feb20dc3e772",
   "metadata": {},
   "outputs": [
    {
     "data": {
      "image/png": "[encoded data removed]",
      "text/plain": [
       "<Figure size 432x288 with 1 Axes>"
      ]
     },
     "metadata": {
      "needs_background": "light"
     },
     "output_type": "display_data"
    }
   ],
   "source": [
    "#plot a linear regression line without the maximum value\n",
    "water_data = water_data[water_data['PFPeA(ppt)'] < 20]\n",
    "sns.regplot(x=water_data.index, y='PFPeA(ppt)', data=water_data)\n",
    "plt.title('PFPeA (ppt) by Observation')\n",
    "plt.xlabel('Obervation')\n",
    "plt.show()"
   ]
  },
  {
   "cell_type": "code",
   "execution_count": null,
   "id": "0ec093b0-0086-4437-bc8b-9c9c8d64b92d",
   "metadata": {},
   "outputs": [],
   "source": []
  }
 ],
 "metadata": {
  "kernelspec": {
   "display_name": "Python 3 [3.10]",
   "language": "python",
   "name": "python3"
  },
  "language_info": {
   "codemirror_mode": {
    "name": "ipython",
    "version": 3
   },
   "file_extension": ".py",
   "mimetype": "text/x-python",
   "name": "python",
   "nbconvert_exporter": "python",
   "pygments_lexer": "ipython3",
   "version": "3.10.2"
  }
 },
 "nbformat": 4,
 "nbformat_minor": 5
}
